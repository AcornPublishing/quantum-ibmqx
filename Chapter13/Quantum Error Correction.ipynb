{
 "cells": [
  {
   "cell_type": "code",
   "execution_count": 1,
   "metadata": {},
   "outputs": [
    {
     "name": "stderr",
     "output_type": "stream",
     "text": [
      "/Users/corbett/Documents/Mastering-Quantum-Computing-with-IBM-QX/book/lib/python3.7/site-packages/marshmallow/schema.py:364: ChangedInMarshmallow3Warning: strict=False is not recommended. In marshmallow 3.0, schemas will always be strict. See https://marshmallow.readthedocs.io/en/latest/upgrading.html#schemas-are-always-strict\n",
      "  ChangedInMarshmallow3Warning\n"
     ]
    }
   ],
   "source": [
    "%matplotlib inline\n",
    "import qiskit\n",
    "import time\n",
    "from qiskit import IBMQ\n",
    "from qiskit import Aer\n",
    "\n",
    "# Authenticate an account and add for use during this session. Replace string\n",
    "# argument with your private token.\n",
    "IBMQ.enable_account(\"INSERT_YOUR_API_TOKEN_HERE\")\n"
   ]
  },
  {
   "cell_type": "code",
   "execution_count": 2,
   "metadata": {},
   "outputs": [
    {
     "name": "stdout",
     "output_type": "stream",
     "text": [
      "[<IBMQBackend('ibmqx4') from IBMQ()>, <IBMQBackend('ibmq_16_melbourne') from IBMQ()>, <IBMQBackend('ibmq_qasm_simulator') from IBMQ()>]\n",
      "[<QasmSimulator('qasm_simulator') from AerProvider()>, <StatevectorSimulator('statevector_simulator') from AerProvider()>, <UnitarySimulator('unitary_simulator') from AerProvider()>]\n"
     ]
    }
   ],
   "source": [
    "print(IBMQ.backends())\n",
    "print(Aer.backends())"
   ]
  },
  {
   "cell_type": "markdown",
   "metadata": {},
   "source": [
    "# Showing errors introduced by repeated application of I gate, IBM QX Device"
   ]
  },
  {
   "cell_type": "code",
   "execution_count": 3,
   "metadata": {},
   "outputs": [
    {
     "name": "stdout",
     "output_type": "stream",
     "text": [
      "{'1': 1000}\n"
     ]
    }
   ],
   "source": [
    "import time\n",
    "from qiskit import Aer\n",
    "from qiskit.tools.visualization import plot_histogram, plot_state_city\n",
    "from qiskit import compile,execute\n",
    "\n",
    "def apply_identity_gate(qubit_val,apply_times=10,noisy=True,simulator=True):\n",
    "    shots=1000\n",
    "    qr = qiskit.QuantumRegister(1)\n",
    "    cr = qiskit.ClassicalRegister(1)\n",
    "    qc = qiskit.QuantumCircuit(qr, cr)\n",
    "    if qubit_val not in [0,1]:\n",
    "        raise Exception(\"initial qubit must be either 0 or 1\")\n",
    "    if qubit_val==1:\n",
    "        # Setting q0=|\"1\">\n",
    "        qc.x(qr[0])\n",
    "\n",
    "    # Applying the identity gate 10 times. \n",
    "    for i in range(apply_times):\n",
    "        qc.iden(qr[0])\n",
    "\n",
    "    # Measuring the result. If our hardware was perfect, it should always yield the same value as qubit_val\n",
    "    qc.measure(qr[0],cr[0])\n",
    "\n",
    "    if simulator:\n",
    "        backend = Aer.get_backend('qasm_simulator') # Local simulator\n",
    "        if noisy:\n",
    "            device = IBMQ.get_backend('ibmqx4')\n",
    "            properties = device.properties()\n",
    "            coupling_map = device.configuration().coupling_map\n",
    "            noise_model = noise.device.basic_device_noise_model(properties)\n",
    "            basis_gates = noise_model.basis_gates\n",
    "            exp_job = execute(qc, backend,\n",
    "                                coupling_map=coupling_map,\n",
    "                                noise_model=noise_model,\n",
    "                                basis_gates=basis_gates)\n",
    "        else:\n",
    "            exp_job = execute(qc,backend,shots=shots)\n",
    "    else:\n",
    "        if noisy:\n",
    "    # Preparing to run\n",
    "            backend = IBMQ.backends(name='ibmqx4')[0] # remote hardware\n",
    "            exp_job = execute(qc,backend,shots=shots)\n",
    "        else:\n",
    "            raise Exception(\"Hardware is always noisy, to use hardware keep noise=True\")\n",
    "\n",
    "    exp_result = exp_job.result()\n",
    "    final=exp_result.get_counts(qc)\n",
    "    print(final)\n",
    "    plot_histogram(final)\n",
    "    \n",
    "apply_identity_gate(1,noisy=False)\n"
   ]
  },
  {
   "cell_type": "markdown",
   "metadata": {},
   "source": [
    "# Bit flip code"
   ]
  },
  {
   "cell_type": "code",
   "execution_count": 4,
   "metadata": {},
   "outputs": [
    {
     "name": "stdout",
     "output_type": "stream",
     "text": [
      "{'00 000': 1000}\n"
     ]
    },
    {
     "data": {
      "image/png": "[encoded data removed]",
      "text/plain": [
       "<Figure size 504x360 with 1 Axes>"
      ]
     },
     "execution_count": 4,
     "metadata": {},
     "output_type": "execute_result"
    }
   ],
   "source": [
    "# Simulating a simple error\n",
    "import random\n",
    "from qiskit import QuantumCircuit\n",
    "shots=1000\n",
    "qasm_string=\"\"\"\n",
    "include \"qelib1.inc\";\n",
    "qreg qr[5];\n",
    "creg result[3];\n",
    "//// these will serve as the bits that will help us figure out if we have errors\n",
    "creg er[2];\n",
    "\n",
    "//// First qubit is |\"0\"> unless you uncomment the following line \n",
    "//// to initialize to |\"1\">:\n",
    "//x qr[0];\n",
    "\n",
    "////See figure 3 of https://arxiv.org/pdf/0905.2794.pdf for circuit\n",
    "////Desire: If first qubit was |\"0\"> we now have |\"000\">. If first qubit was |\"1\"> we now have |\"111\">\n",
    "////To reach this: entangle the original qubit across 3 qubits:\n",
    "cx qr[0], qr[1];\n",
    "cx qr[1], qr[2];\n",
    "\n",
    "\n",
    "//// Modeling an error by uncommenting just ONE of the following suggestions:\n",
    "//// (if you uncomment more than 1 the error correction is ambiguous)\n",
    "//// Uncomment the following to model a single bit flip error by flipping 0th qubit:\n",
    "// x qr[0];\n",
    "//// If our initial state was |\"0\"> we now have |\"100\"> because of error on 0th qubit\n",
    "//// if our initial state was |\"1\"> we now have |\"011\"> because of error on 0th qubit\n",
    "\n",
    "// Uncomment the following to model a single bit flip error by flipping 1th qubit:\n",
    "//x qr[1];\n",
    "//// If our initial state was |\"0\"> we now have |\"010\"> because of error on 1th qubit\n",
    "//// if our initial state was |\"1\"> we now have |\"101\"> because of error on 1th qubit\n",
    "\n",
    "// Uncomment the following to model a single bit flip error by flipping 2th qubit:\n",
    "//x qr[2];\n",
    "//// If our initial state was |\"0\"> we now have |\"001\"> because of error on 2th qubit\n",
    "//// if our initial state was |\"1\"> we now have |\"110\"> because of error on 2th qubit\n",
    "\n",
    "\n",
    "//// Now: our goal is to recover the original state. \n",
    "///// To do this we entangle with a few extra qubits (3th and 4th qubit):\n",
    "cx qr[0],qr[3];\n",
    "cx qr[1],qr[3];\n",
    "cx qr[0],qr[4];\n",
    "cx qr[2],qr[4];\n",
    "\n",
    "//// Now we can make measurements of 3th and 4th qubit to get information about our 3 qubit without disturbing it\n",
    "measure qr[3]->er[1];\n",
    "measure qr[4]->er[0];\n",
    "\n",
    "////\n",
    "//// See table 1 of https://arxiv.org/pdf/0905.2794.pdf for how to correct\n",
    "////case: 11 (3 in decimal), 0th qubit has error so flip back\n",
    "if(er==3)\n",
    "x qr[0];\n",
    "\n",
    "////case: 10 (2 in decimal), 1th qubit has error so flip back\n",
    "if(er==2)\n",
    "x qr[1];\n",
    "\n",
    "////case: 01 (1 in decimal), 2th qubit has error so flip back\n",
    "if(er==1)\n",
    "x qr[2];\n",
    "//// 00 do nothing, there wer no errors\n",
    "\n",
    "measure qr[0]->result[0];\n",
    "measure qr[1]->result[1];\n",
    "measure qr[2]->result[2];\n",
    "\n",
    "\"\"\"\n",
    "\n",
    "backend = Aer.get_backend('qasm_simulator')\n",
    "qc = QuantumCircuit.from_qasm_str(qasm_string)\n",
    "exp_job = execute(qc,backend,shots=shots)\n",
    "exp_result = exp_job.result()\n",
    "final=exp_result.get_counts(qc)\n",
    "print(final)\n",
    "plot_histogram(final)"
   ]
  },
  {
   "cell_type": "markdown",
   "metadata": {},
   "source": [
    "# Phase flip code"
   ]
  },
  {
   "cell_type": "code",
   "execution_count": 5,
   "metadata": {},
   "outputs": [
    {
     "name": "stdout",
     "output_type": "stream",
     "text": [
      "{'00 000': 1000}\n"
     ]
    },
    {
     "data": {
      "image/png": "[encoded data removed]",
      "text/plain": [
       "<Figure size 504x360 with 1 Axes>"
      ]
     },
     "execution_count": 5,
     "metadata": {},
     "output_type": "execute_result"
    }
   ],
   "source": [
    "# Simulating a simple error\n",
    "import random\n",
    "from qiskit import QuantumCircuit\n",
    "shots=1000\n",
    "qasm_string=\"\"\"\n",
    "include \"qelib1.inc\";\n",
    "qreg qr[5];\n",
    "creg result[3];\n",
    "//// these will serve as the bits that will help us figure out if we have errors\n",
    "creg er[2];\n",
    "\n",
    "//// First qubit is |\"0\"> unless you uncomment the following line \n",
    "//// to initialize to |\"1\">:\n",
    "//x qr[0];\n",
    "\n",
    "////See figure 3 of https://arxiv.org/pdf/0905.2794.pdf for circuit\n",
    "////Desire: If first qubit was |\"0\"> we now have |\"000\">. If first qubit was |\"1\"> we now have |\"111\">\n",
    "////To reach this: entangle the original qubit across 3 qubits:\n",
    "cx qr[0], qr[1];\n",
    "cx qr[1], qr[2];\n",
    "\n",
    "h qr[0];\n",
    "h qr[1];\n",
    "h qr[2];\n",
    "\n",
    "//// Modeling an error by uncommenting just ONE of the following suggestions:\n",
    "//// (if you uncomment more than 1 the error correction is ambiguous)\n",
    "//// Uncomment the following to model a single phase flip error by flipping 0th qubit:\n",
    "// z qr[0];\n",
    "//// If our initial state was |\"0\"> we now have |\"100\"> because of error on 0th qubit\n",
    "//// if our initial state was |\"1\"> we now have |\"011\"> because of error on 0th qubit\n",
    "\n",
    "// Uncomment the following to model a single phase flip error by flipping 1th qubit:\n",
    "//z qr[1];\n",
    "//// If our initial state was |\"0\"> we now have |\"010\"> because of error on 1th qubit\n",
    "//// if our initial state was |\"1\"> we now have |\"101\"> because of error on 1th qubit\n",
    "\n",
    "// Uncomment the following to model a single phas flip error by flipping 2th qubit:\n",
    "//z qr[2];\n",
    "//// If our initial state was |\"0\"> we now have |\"001\"> because of error on 2th qubit\n",
    "//// if our initial state was |\"1\"> we now have |\"110\"> because of error on 2th qubit\n",
    "h qr[0];\n",
    "h qr[1];\n",
    "h qr[2];\n",
    "\n",
    "\n",
    "//// Now: our goal is to recover the original state. \n",
    "///// To do this we entangle with a few extra qubits (3th and 4th qubit):\n",
    "cx qr[0],qr[3];\n",
    "cx qr[1],qr[3];\n",
    "cx qr[0],qr[4];\n",
    "cx qr[2],qr[4];\n",
    "\n",
    "//// Now we can make measurements of 3th and 4th qubit to get information about our 3 qubit without disturbing it\n",
    "measure qr[3]->er[1];\n",
    "measure qr[4]->er[0];\n",
    "\n",
    "////\n",
    "//// See table 1 of https://arxiv.org/pdf/0905.2794.pdf for how to correct\n",
    "////case: 11 (3 in decimal), 0th qubit has error so flip back\n",
    "if(er==3)\n",
    "z qr[0];\n",
    "\n",
    "////case: 10 (2 in decimal), 1th qubit has error so flip back\n",
    "if(er==2)\n",
    "z qr[1];\n",
    "\n",
    "////case: 01 (1 in decimal), 2th qubit has error so flip back\n",
    "if(er==1)\n",
    "z qr[2];\n",
    "//// 00 do nothing, there were no errors\n",
    "\n",
    "measure qr[0]->result[0];\n",
    "measure qr[1]->result[1];\n",
    "measure qr[2]->result[2];\n",
    "\n",
    "\"\"\"\n",
    "\n",
    "backend = Aer.get_backend('qasm_simulator')\n",
    "qc = QuantumCircuit.from_qasm_str(qasm_string)\n",
    "exp_job = execute(qc,backend,shots=shots)\n",
    "exp_result = exp_job.result()\n",
    "final=exp_result.get_counts(qc)\n",
    "print(final)\n",
    "plot_histogram(final)"
   ]
  },
  {
   "cell_type": "code",
   "execution_count": null,
   "metadata": {},
   "outputs": [],
   "source": []
  }
 ],
 "metadata": {
  "kernelspec": {
   "display_name": "bookkernel",
   "language": "python",
   "name": "bookkernel"
  },
  "language_info": {
   "codemirror_mode": {
    "name": "ipython",
    "version": 3
   },
   "file_extension": ".py",
   "mimetype": "text/x-python",
   "name": "python",
   "nbconvert_exporter": "python",
   "pygments_lexer": "ipython3",
   "version": "3.7.2"
  }
 },
 "nbformat": 4,
 "nbformat_minor": 2
}
